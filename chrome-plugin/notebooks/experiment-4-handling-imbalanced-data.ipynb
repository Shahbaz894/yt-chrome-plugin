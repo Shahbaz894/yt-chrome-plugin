{
 "cells": [
  {
   "cell_type": "code",
   "execution_count": null,
   "metadata": {},
   "outputs": [],
   "source": []
  },
  {
   "cell_type": "code",
   "execution_count": 1,
   "metadata": {},
   "outputs": [
    {
     "name": "stdout",
     "output_type": "stream",
     "text": [
      "Requirement already satisfied: mlflow in e:\\mlflow-without-pipeline\\venv\\lib\\site-packages (2.17.2)\n",
      "Requirement already satisfied: boto3 in e:\\mlflow-without-pipeline\\venv\\lib\\site-packages (1.35.63)\n",
      "Requirement already satisfied: awscli in e:\\mlflow-without-pipeline\\venv\\lib\\site-packages (1.36.4)\n",
      "Requirement already satisfied: mlflow-skinny==2.17.2 in e:\\mlflow-without-pipeline\\venv\\lib\\site-packages (from mlflow) (2.17.2)\n",
      "Requirement already satisfied: Flask<4 in e:\\mlflow-without-pipeline\\venv\\lib\\site-packages (from mlflow) (3.1.0)\n",
      "Requirement already satisfied: alembic!=1.10.0,<2 in e:\\mlflow-without-pipeline\\venv\\lib\\site-packages (from mlflow) (1.14.0)\n",
      "Requirement already satisfied: docker<8,>=4.0.0 in e:\\mlflow-without-pipeline\\venv\\lib\\site-packages (from mlflow) (7.1.0)\n",
      "Requirement already satisfied: graphene<4 in e:\\mlflow-without-pipeline\\venv\\lib\\site-packages (from mlflow) (3.4.3)\n",
      "Requirement already satisfied: markdown<4,>=3.3 in e:\\mlflow-without-pipeline\\venv\\lib\\site-packages (from mlflow) (3.7)\n",
      "Requirement already satisfied: matplotlib<4 in e:\\mlflow-without-pipeline\\venv\\lib\\site-packages (from mlflow) (3.9.2)\n",
      "Requirement already satisfied: numpy<3 in e:\\mlflow-without-pipeline\\venv\\lib\\site-packages (from mlflow) (2.1.2)\n",
      "Requirement already satisfied: pandas<3 in e:\\mlflow-without-pipeline\\venv\\lib\\site-packages (from mlflow) (2.2.3)\n",
      "Requirement already satisfied: pyarrow<18,>=4.0.0 in e:\\mlflow-without-pipeline\\venv\\lib\\site-packages (from mlflow) (17.0.0)\n",
      "Requirement already satisfied: scikit-learn<2 in e:\\mlflow-without-pipeline\\venv\\lib\\site-packages (from mlflow) (1.5.2)\n",
      "Requirement already satisfied: scipy<2 in e:\\mlflow-without-pipeline\\venv\\lib\\site-packages (from mlflow) (1.14.1)\n",
      "Requirement already satisfied: sqlalchemy<3,>=1.4.0 in e:\\mlflow-without-pipeline\\venv\\lib\\site-packages (from mlflow) (2.0.36)\n",
      "Requirement already satisfied: Jinja2<4,>=3.0 in e:\\mlflow-without-pipeline\\venv\\lib\\site-packages (from mlflow) (3.1.4)\n",
      "Requirement already satisfied: waitress<4 in e:\\mlflow-without-pipeline\\venv\\lib\\site-packages (from mlflow) (3.0.1)\n",
      "Requirement already satisfied: cachetools<6,>=5.0.0 in e:\\mlflow-without-pipeline\\venv\\lib\\site-packages (from mlflow-skinny==2.17.2->mlflow) (5.5.0)\n",
      "Requirement already satisfied: click<9,>=7.0 in e:\\mlflow-without-pipeline\\venv\\lib\\site-packages (from mlflow-skinny==2.17.2->mlflow) (8.1.7)\n",
      "Requirement already satisfied: cloudpickle<4 in e:\\mlflow-without-pipeline\\venv\\lib\\site-packages (from mlflow-skinny==2.17.2->mlflow) (3.1.0)\n",
      "Requirement already satisfied: databricks-sdk<1,>=0.20.0 in e:\\mlflow-without-pipeline\\venv\\lib\\site-packages (from mlflow-skinny==2.17.2->mlflow) (0.37.0)\n",
      "Requirement already satisfied: gitpython<4,>=3.1.9 in e:\\mlflow-without-pipeline\\venv\\lib\\site-packages (from mlflow-skinny==2.17.2->mlflow) (3.1.43)\n",
      "Requirement already satisfied: importlib-metadata!=4.7.0,<9,>=3.7.0 in e:\\mlflow-without-pipeline\\venv\\lib\\site-packages (from mlflow-skinny==2.17.2->mlflow) (8.5.0)\n",
      "Requirement already satisfied: opentelemetry-api<3,>=1.9.0 in e:\\mlflow-without-pipeline\\venv\\lib\\site-packages (from mlflow-skinny==2.17.2->mlflow) (1.28.1)\n",
      "Requirement already satisfied: opentelemetry-sdk<3,>=1.9.0 in e:\\mlflow-without-pipeline\\venv\\lib\\site-packages (from mlflow-skinny==2.17.2->mlflow) (1.28.1)\n",
      "Requirement already satisfied: packaging<25 in e:\\mlflow-without-pipeline\\venv\\lib\\site-packages (from mlflow-skinny==2.17.2->mlflow) (24.1)\n",
      "Requirement already satisfied: protobuf<6,>=3.12.0 in e:\\mlflow-without-pipeline\\venv\\lib\\site-packages (from mlflow-skinny==2.17.2->mlflow) (5.28.3)\n",
      "Requirement already satisfied: pyyaml<7,>=5.1 in e:\\mlflow-without-pipeline\\venv\\lib\\site-packages (from mlflow-skinny==2.17.2->mlflow) (6.0.2)\n",
      "Requirement already satisfied: requests<3,>=2.17.3 in e:\\mlflow-without-pipeline\\venv\\lib\\site-packages (from mlflow-skinny==2.17.2->mlflow) (2.32.3)\n",
      "Requirement already satisfied: sqlparse<1,>=0.4.0 in e:\\mlflow-without-pipeline\\venv\\lib\\site-packages (from mlflow-skinny==2.17.2->mlflow) (0.5.2)\n",
      "Requirement already satisfied: botocore<1.36.0,>=1.35.63 in e:\\mlflow-without-pipeline\\venv\\lib\\site-packages (from boto3) (1.35.63)\n",
      "Requirement already satisfied: jmespath<2.0.0,>=0.7.1 in e:\\mlflow-without-pipeline\\venv\\lib\\site-packages (from boto3) (1.0.1)\n",
      "Requirement already satisfied: s3transfer<0.11.0,>=0.10.0 in e:\\mlflow-without-pipeline\\venv\\lib\\site-packages (from boto3) (0.10.3)\n",
      "Requirement already satisfied: docutils<0.17,>=0.10 in e:\\mlflow-without-pipeline\\venv\\lib\\site-packages (from awscli) (0.16)\n",
      "Requirement already satisfied: colorama<0.4.7,>=0.2.5 in e:\\mlflow-without-pipeline\\venv\\lib\\site-packages (from awscli) (0.4.6)\n",
      "Requirement already satisfied: rsa<4.8,>=3.1.2 in e:\\mlflow-without-pipeline\\venv\\lib\\site-packages (from awscli) (4.7.2)\n",
      "Requirement already satisfied: python-dateutil<3.0.0,>=2.1 in e:\\mlflow-without-pipeline\\venv\\lib\\site-packages (from botocore<1.36.0,>=1.35.63->boto3) (2.9.0)\n",
      "Requirement already satisfied: urllib3!=2.2.0,<3,>=1.25.4 in e:\\mlflow-without-pipeline\\venv\\lib\\site-packages (from botocore<1.36.0,>=1.35.63->boto3) (2.2.3)\n",
      "Requirement already satisfied: Mako in e:\\mlflow-without-pipeline\\venv\\lib\\site-packages (from alembic!=1.10.0,<2->mlflow) (1.3.6)\n",
      "Requirement already satisfied: typing-extensions>=4 in e:\\mlflow-without-pipeline\\venv\\lib\\site-packages (from alembic!=1.10.0,<2->mlflow) (4.12.2)\n",
      "Requirement already satisfied: pywin32>=304 in e:\\mlflow-without-pipeline\\venv\\lib\\site-packages (from docker<8,>=4.0.0->mlflow) (307)\n",
      "Requirement already satisfied: Werkzeug>=3.1 in e:\\mlflow-without-pipeline\\venv\\lib\\site-packages (from Flask<4->mlflow) (3.1.3)\n",
      "Requirement already satisfied: itsdangerous>=2.2 in e:\\mlflow-without-pipeline\\venv\\lib\\site-packages (from Flask<4->mlflow) (2.2.0)\n",
      "Requirement already satisfied: blinker>=1.9 in e:\\mlflow-without-pipeline\\venv\\lib\\site-packages (from Flask<4->mlflow) (1.9.0)\n",
      "Requirement already satisfied: graphql-core<3.3,>=3.1 in e:\\mlflow-without-pipeline\\venv\\lib\\site-packages (from graphene<4->mlflow) (3.2.5)\n",
      "Requirement already satisfied: graphql-relay<3.3,>=3.1 in e:\\mlflow-without-pipeline\\venv\\lib\\site-packages (from graphene<4->mlflow) (3.2.0)\n",
      "Requirement already satisfied: MarkupSafe>=2.0 in e:\\mlflow-without-pipeline\\venv\\lib\\site-packages (from Jinja2<4,>=3.0->mlflow) (3.0.2)\n",
      "Requirement already satisfied: contourpy>=1.0.1 in e:\\mlflow-without-pipeline\\venv\\lib\\site-packages (from matplotlib<4->mlflow) (1.3.0)\n",
      "Requirement already satisfied: cycler>=0.10 in e:\\mlflow-without-pipeline\\venv\\lib\\site-packages (from matplotlib<4->mlflow) (0.12.1)\n",
      "Requirement already satisfied: fonttools>=4.22.0 in e:\\mlflow-without-pipeline\\venv\\lib\\site-packages (from matplotlib<4->mlflow) (4.54.1)\n",
      "Requirement already satisfied: kiwisolver>=1.3.1 in e:\\mlflow-without-pipeline\\venv\\lib\\site-packages (from matplotlib<4->mlflow) (1.4.7)\n",
      "Requirement already satisfied: pillow>=8 in e:\\mlflow-without-pipeline\\venv\\lib\\site-packages (from matplotlib<4->mlflow) (11.0.0)\n",
      "Requirement already satisfied: pyparsing>=2.3.1 in e:\\mlflow-without-pipeline\\venv\\lib\\site-packages (from matplotlib<4->mlflow) (3.2.0)\n",
      "Requirement already satisfied: pytz>=2020.1 in e:\\mlflow-without-pipeline\\venv\\lib\\site-packages (from pandas<3->mlflow) (2024.2)\n",
      "Requirement already satisfied: tzdata>=2022.7 in e:\\mlflow-without-pipeline\\venv\\lib\\site-packages (from pandas<3->mlflow) (2024.2)\n",
      "Requirement already satisfied: pyasn1>=0.1.3 in e:\\mlflow-without-pipeline\\venv\\lib\\site-packages (from rsa<4.8,>=3.1.2->awscli) (0.6.1)\n",
      "Requirement already satisfied: joblib>=1.2.0 in e:\\mlflow-without-pipeline\\venv\\lib\\site-packages (from scikit-learn<2->mlflow) (1.4.2)\n",
      "Requirement already satisfied: threadpoolctl>=3.1.0 in e:\\mlflow-without-pipeline\\venv\\lib\\site-packages (from scikit-learn<2->mlflow) (3.5.0)\n",
      "Requirement already satisfied: greenlet!=0.4.17 in e:\\mlflow-without-pipeline\\venv\\lib\\site-packages (from sqlalchemy<3,>=1.4.0->mlflow) (3.1.1)\n",
      "Requirement already satisfied: google-auth~=2.0 in e:\\mlflow-without-pipeline\\venv\\lib\\site-packages (from databricks-sdk<1,>=0.20.0->mlflow-skinny==2.17.2->mlflow) (2.36.0)\n",
      "Requirement already satisfied: gitdb<5,>=4.0.1 in e:\\mlflow-without-pipeline\\venv\\lib\\site-packages (from gitpython<4,>=3.1.9->mlflow-skinny==2.17.2->mlflow) (4.0.11)\n",
      "Requirement already satisfied: zipp>=3.20 in e:\\mlflow-without-pipeline\\venv\\lib\\site-packages (from importlib-metadata!=4.7.0,<9,>=3.7.0->mlflow-skinny==2.17.2->mlflow) (3.20.2)\n",
      "Requirement already satisfied: deprecated>=1.2.6 in e:\\mlflow-without-pipeline\\venv\\lib\\site-packages (from opentelemetry-api<3,>=1.9.0->mlflow-skinny==2.17.2->mlflow) (1.2.15)\n",
      "Requirement already satisfied: opentelemetry-semantic-conventions==0.49b1 in e:\\mlflow-without-pipeline\\venv\\lib\\site-packages (from opentelemetry-sdk<3,>=1.9.0->mlflow-skinny==2.17.2->mlflow) (0.49b1)\n",
      "Requirement already satisfied: six>=1.5 in e:\\mlflow-without-pipeline\\venv\\lib\\site-packages (from python-dateutil<3.0.0,>=2.1->botocore<1.36.0,>=1.35.63->boto3) (1.16.0)\n",
      "Requirement already satisfied: charset-normalizer<4,>=2 in e:\\mlflow-without-pipeline\\venv\\lib\\site-packages (from requests<3,>=2.17.3->mlflow-skinny==2.17.2->mlflow) (3.4.0)\n",
      "Requirement already satisfied: idna<4,>=2.5 in e:\\mlflow-without-pipeline\\venv\\lib\\site-packages (from requests<3,>=2.17.3->mlflow-skinny==2.17.2->mlflow) (3.10)\n",
      "Requirement already satisfied: certifi>=2017.4.17 in e:\\mlflow-without-pipeline\\venv\\lib\\site-packages (from requests<3,>=2.17.3->mlflow-skinny==2.17.2->mlflow) (2024.8.30)\n",
      "Requirement already satisfied: wrapt<2,>=1.10 in e:\\mlflow-without-pipeline\\venv\\lib\\site-packages (from deprecated>=1.2.6->opentelemetry-api<3,>=1.9.0->mlflow-skinny==2.17.2->mlflow) (1.16.0)\n",
      "Requirement already satisfied: smmap<6,>=3.0.1 in e:\\mlflow-without-pipeline\\venv\\lib\\site-packages (from gitdb<5,>=4.0.1->gitpython<4,>=3.1.9->mlflow-skinny==2.17.2->mlflow) (5.0.1)\n",
      "Requirement already satisfied: pyasn1-modules>=0.2.1 in e:\\mlflow-without-pipeline\\venv\\lib\\site-packages (from google-auth~=2.0->databricks-sdk<1,>=0.20.0->mlflow-skinny==2.17.2->mlflow) (0.4.1)\n"
     ]
    }
   ],
   "source": [
    "!pip install mlflow boto3 awscli"
   ]
  },
  {
   "cell_type": "code",
   "execution_count": 2,
   "metadata": {},
   "outputs": [
    {
     "name": "stdout",
     "output_type": "stream",
     "text": [
      "^C\n"
     ]
    }
   ],
   "source": [
    "!aws configure"
   ]
  },
  {
   "cell_type": "code",
   "execution_count": 3,
   "metadata": {},
   "outputs": [],
   "source": [
    "import mlflow\n",
    "# Step 2: Set up the MLflow tracking server\n",
    "mlflow.set_tracking_uri(\"http://ec2-54-252-23-89.ap-southeast-2.compute.amazonaws.com:5000\")"
   ]
  },
  {
   "cell_type": "code",
   "execution_count": 4,
   "metadata": {},
   "outputs": [
    {
     "data": {
      "text/plain": [
       "<Experiment: artifact_location='s3://yt-chrome-plugin-bucket/854808903051526481', creation_time=1734179317927, experiment_id='854808903051526481', last_update_time=1734179317927, lifecycle_stage='active', name='Exp 4 - Handling Imbalanced Data', tags={}>"
      ]
     },
     "execution_count": 4,
     "metadata": {},
     "output_type": "execute_result"
    }
   ],
   "source": [
    "# Set or create an experiment\n",
    "mlflow.set_experiment(\"Exp 4 - Handling Imbalanced Data\")"
   ]
  },
  {
   "cell_type": "code",
   "execution_count": 7,
   "metadata": {},
   "outputs": [
    {
     "name": "stdout",
     "output_type": "stream",
     "text": [
      "Collecting imbalanced-learn\n",
      "  Downloading imbalanced_learn-0.13.0-py3-none-any.whl.metadata (8.8 kB)\n",
      "Requirement already satisfied: numpy<3,>=1.24.3 in e:\\mlflow-without-pipeline\\venv\\lib\\site-packages (from imbalanced-learn) (2.1.2)\n",
      "Requirement already satisfied: scipy<2,>=1.10.1 in e:\\mlflow-without-pipeline\\venv\\lib\\site-packages (from imbalanced-learn) (1.14.1)\n",
      "Requirement already satisfied: scikit-learn<2,>=1.3.2 in e:\\mlflow-without-pipeline\\venv\\lib\\site-packages (from imbalanced-learn) (1.5.2)\n",
      "Collecting sklearn-compat<1,>=0.1 (from imbalanced-learn)\n",
      "  Downloading sklearn_compat-0.1.3-py3-none-any.whl.metadata (18 kB)\n",
      "Requirement already satisfied: joblib<2,>=1.1.1 in e:\\mlflow-without-pipeline\\venv\\lib\\site-packages (from imbalanced-learn) (1.4.2)\n",
      "Requirement already satisfied: threadpoolctl<4,>=2.0.0 in e:\\mlflow-without-pipeline\\venv\\lib\\site-packages (from imbalanced-learn) (3.5.0)\n",
      "Downloading imbalanced_learn-0.13.0-py3-none-any.whl (238 kB)\n",
      "   ---------------------------------------- 0.0/238.4 kB ? eta -:--:--\n",
      "   --- ----------------------------------- 20.5/238.4 kB 640.0 kB/s eta 0:00:01\n",
      "   --- ----------------------------------- 20.5/238.4 kB 640.0 kB/s eta 0:00:01\n",
      "   ------ -------------------------------- 41.0/238.4 kB 281.8 kB/s eta 0:00:01\n",
      "   --------------- ----------------------- 92.2/238.4 kB 525.1 kB/s eta 0:00:01\n",
      "   ---------------- --------------------- 102.4/238.4 kB 535.8 kB/s eta 0:00:01\n",
      "   ----------------------------- -------- 184.3/238.4 kB 654.4 kB/s eta 0:00:01\n",
      "   -------------------------------------- 238.4/238.4 kB 768.2 kB/s eta 0:00:00\n",
      "Downloading sklearn_compat-0.1.3-py3-none-any.whl (18 kB)\n",
      "Installing collected packages: sklearn-compat, imbalanced-learn\n",
      "Successfully installed imbalanced-learn-0.13.0 sklearn-compat-0.1.3\n"
     ]
    }
   ],
   "source": [
    "!pip install imbalanced-learn\n"
   ]
  },
  {
   "cell_type": "code",
   "execution_count": 8,
   "metadata": {},
   "outputs": [],
   "source": [
    "from imblearn.over_sampling import SMOTE, ADASYN\n",
    "from imblearn.under_sampling import RandomUnderSampler\n",
    "from imblearn.combine import SMOTEENN\n",
    "from sklearn.feature_extraction.text import TfidfVectorizer\n",
    "from sklearn.ensemble import RandomForestClassifier\n",
    "from sklearn.model_selection import train_test_split\n",
    "from sklearn.metrics import accuracy_score, classification_report, confusion_matrix\n",
    "import mlflow\n",
    "import mlflow.sklearn\n",
    "import matplotlib.pyplot as plt\n",
    "import seaborn as sns\n",
    "import pandas as pd"
   ]
  },
  {
   "cell_type": "code",
   "execution_count": 11,
   "metadata": {},
   "outputs": [],
   "source": [
    "import pandas as pd\n",
    "\n",
    "# Use a raw string or double backslashes for the file path on Windows\n",
    "file_path = r'E:\\yt-chrome-plugin\\chrome-plugin\\data\\processed\\redit_preprocessing.csv'\n",
    "\n",
    "# Load the CSV file and drop rows with NaN values in the 'clean_comment' column\n",
    "df = pd.read_csv(file_path).dropna(subset=['clean_comment'])\n"
   ]
  },
  {
   "cell_type": "code",
   "execution_count": 12,
   "metadata": {},
   "outputs": [
    {
     "name": "stderr",
     "output_type": "stream",
     "text": [
      "2025/01/23 13:44:01 WARNING mlflow.models.model: Model logged without a signature and input example. Please set `input_example` parameter when logging the model to auto infer the model signature.\n",
      "2025/01/23 13:44:38 INFO mlflow.tracking._tracking_service.client: 🏃 View run Imbalance_class_weight_RandomForest_TFIDF_Trigrams at: http://ec2-54-252-23-89.ap-southeast-2.compute.amazonaws.com:5000/#/experiments/854808903051526481/runs/4c34cfe49a6c4e4ca0d01bd32535c907.\n",
      "2025/01/23 13:44:38 INFO mlflow.tracking._tracking_service.client: 🧪 View experiment at: http://ec2-54-252-23-89.ap-southeast-2.compute.amazonaws.com:5000/#/experiments/854808903051526481.\n",
      "2025/01/23 13:45:24 WARNING mlflow.models.model: Model logged without a signature and input example. Please set `input_example` parameter when logging the model to auto infer the model signature.\n",
      "2025/01/23 13:45:57 INFO mlflow.tracking._tracking_service.client: 🏃 View run Imbalance_oversampling_RandomForest_TFIDF_Trigrams at: http://ec2-54-252-23-89.ap-southeast-2.compute.amazonaws.com:5000/#/experiments/854808903051526481/runs/85ce90b4a208440688c1b9bd8c69664d.\n",
      "2025/01/23 13:45:57 INFO mlflow.tracking._tracking_service.client: 🧪 View experiment at: http://ec2-54-252-23-89.ap-southeast-2.compute.amazonaws.com:5000/#/experiments/854808903051526481.\n",
      "2025/01/23 13:46:46 WARNING mlflow.models.model: Model logged without a signature and input example. Please set `input_example` parameter when logging the model to auto infer the model signature.\n",
      "2025/01/23 13:47:16 INFO mlflow.tracking._tracking_service.client: 🏃 View run Imbalance_adasyn_RandomForest_TFIDF_Trigrams at: http://ec2-54-252-23-89.ap-southeast-2.compute.amazonaws.com:5000/#/experiments/854808903051526481/runs/cfea2e24b9ab4d91a05b2cbd52901f0c.\n",
      "2025/01/23 13:47:16 INFO mlflow.tracking._tracking_service.client: 🧪 View experiment at: http://ec2-54-252-23-89.ap-southeast-2.compute.amazonaws.com:5000/#/experiments/854808903051526481.\n",
      "2025/01/23 13:47:51 WARNING mlflow.models.model: Model logged without a signature and input example. Please set `input_example` parameter when logging the model to auto infer the model signature.\n",
      "2025/01/23 13:48:34 INFO mlflow.tracking._tracking_service.client: 🏃 View run Imbalance_undersampling_RandomForest_TFIDF_Trigrams at: http://ec2-54-252-23-89.ap-southeast-2.compute.amazonaws.com:5000/#/experiments/854808903051526481/runs/4cdcb589fd6947fea373e0146806d5a1.\n",
      "2025/01/23 13:48:34 INFO mlflow.tracking._tracking_service.client: 🧪 View experiment at: http://ec2-54-252-23-89.ap-southeast-2.compute.amazonaws.com:5000/#/experiments/854808903051526481.\n",
      "2025/01/23 13:49:18 WARNING mlflow.models.model: Model logged without a signature and input example. Please set `input_example` parameter when logging the model to auto infer the model signature.\n",
      "2025/01/23 13:49:38 INFO mlflow.tracking._tracking_service.client: 🏃 View run Imbalance_smote_enn_RandomForest_TFIDF_Trigrams at: http://ec2-54-252-23-89.ap-southeast-2.compute.amazonaws.com:5000/#/experiments/854808903051526481/runs/dca23f4e83fe4d95bc9148f9bc61964b.\n",
      "2025/01/23 13:49:38 INFO mlflow.tracking._tracking_service.client: 🧪 View experiment at: http://ec2-54-252-23-89.ap-southeast-2.compute.amazonaws.com:5000/#/experiments/854808903051526481.\n"
     ]
    }
   ],
   "source": [
    "# Step 1: Function to run the experiment\n",
    "def run_imbalanced_experiment(imbalance_method):\n",
    "    # Define parameters for the TF-IDF vectorizer\n",
    "    ngram_range = (1, 3)\n",
    "    max_features = 1000\n",
    "\n",
    "    # Split the dataset into training and testing sets\n",
    "    X_train, X_test, y_train, y_test = train_test_split(\n",
    "        df['clean_comment'], \n",
    "        df['category'], \n",
    "        test_size=0.2, \n",
    "        random_state=42, \n",
    "        stratify=df['category']  # Ensures class proportions are preserved\n",
    "    )\n",
    "\n",
    "    # Initialize the TF-IDF vectorizer with specified parameters\n",
    "    vectorizer = TfidfVectorizer(ngram_range=ngram_range, max_features=max_features)\n",
    "    \n",
    "    # Transform the training and testing data into TF-IDF vectors\n",
    "    X_train_vec = vectorizer.fit_transform(X_train)\n",
    "    X_test_vec = vectorizer.transform(X_test)  # Use `transform` for test data\n",
    "\n",
    "    # Handle class imbalance based on the specified method\n",
    "    if imbalance_method == 'class_weight':\n",
    "        class_weight = 'balanced'  # Assign balanced weights to address class imbalance\n",
    "    else:\n",
    "        class_weight = None\n",
    "\n",
    "        # Apply oversampling using SMOTE\n",
    "        if imbalance_method == 'oversampling':\n",
    "            smote = SMOTE(random_state=42)\n",
    "            X_train_vec, y_train = smote.fit_resample(X_train_vec, y_train)\n",
    "        \n",
    "        # Apply oversampling using ADASYN\n",
    "        elif imbalance_method == 'adasyn':\n",
    "            adasyn = ADASYN(random_state=42)\n",
    "            X_train_vec, y_train = adasyn.fit_resample(X_train_vec, y_train)\n",
    "        \n",
    "        # Apply undersampling using RandomUnderSampler\n",
    "        elif imbalance_method == 'undersampling':\n",
    "            rus = RandomUnderSampler(random_state=42)\n",
    "            X_train_vec, y_train = rus.fit_resample(X_train_vec, y_train)\n",
    "        \n",
    "        # Combine oversampling and undersampling using SMOTEENN\n",
    "        elif imbalance_method == 'smote_enn':\n",
    "            smote_enn = SMOTEENN(random_state=42)\n",
    "            X_train_vec, y_train = smote_enn.fit_resample(X_train_vec, y_train)\n",
    "\n",
    "    # Log the experiment with MLflow\n",
    "    with mlflow.start_run() as run:\n",
    "        # Set MLflow tags for experiment tracking\n",
    "        mlflow.set_tag(\"mlflow.runName\", f\"Imbalance_{imbalance_method}_RandomForest_TFIDF_Trigrams\")\n",
    "        mlflow.set_tag(\"experiment_type\", \"imbalance_handling\")\n",
    "        mlflow.set_tag(\"model_type\", \"RandomForestClassifier\")\n",
    "        mlflow.set_tag(\"description\", f\"RandomForest with TF-IDF Trigrams, imbalance handling method={imbalance_method}\")\n",
    "\n",
    "        # Log vectorizer parameters\n",
    "        mlflow.log_param(\"vectorizer_type\", \"TF-IDF\")\n",
    "        mlflow.log_param(\"ngram_range\", ngram_range)\n",
    "        mlflow.log_param(\"vectorizer_max_features\", max_features)\n",
    "\n",
    "        # Define RandomForestClassifier parameters\n",
    "        n_estimators = 200\n",
    "        max_depth = 15\n",
    "\n",
    "        # Log model parameters\n",
    "        mlflow.log_param(\"n_estimators\", n_estimators)\n",
    "        mlflow.log_param(\"max_depth\", max_depth)\n",
    "        mlflow.log_param(\"imbalance_method\", imbalance_method)\n",
    "\n",
    "        # Train the RandomForestClassifier\n",
    "        model = RandomForestClassifier(n_estimators=n_estimators, max_depth=max_depth)\n",
    "        model.fit(X_train_vec, y_train)\n",
    "\n",
    "        # Make predictions on the test set\n",
    "        y_pred = model.predict(X_test_vec)\n",
    "\n",
    "        # Evaluate model performance\n",
    "        accuracy = accuracy_score(y_pred, y_test)\n",
    "        classification_rep = classification_report(y_test, y_pred, output_dict=True)\n",
    "\n",
    "        # Log classification metrics to MLflow\n",
    "        for label, metrics in classification_rep.items():\n",
    "            if isinstance(metrics, dict):\n",
    "                for metric, value in metrics.items():\n",
    "                    mlflow.log_metric(f\"{label}_{metric}\", value)\n",
    "\n",
    "        # Generate and log the confusion matrix\n",
    "        conf_matrix = confusion_matrix(y_pred, y_test)\n",
    "        plt.figure(figsize=(8, 6))\n",
    "        sns.heatmap(conf_matrix, annot=True, fmt='d', cmap='Blues')\n",
    "        plt.xlabel(\"Predicted\")\n",
    "        plt.ylabel(\"Actual\")\n",
    "        plt.title(f\"Confusion Matrix: TF-IDF Trigrams, Imbalance={imbalance_method}\")\n",
    "        \n",
    "        # Save the confusion matrix plot and log it as an artifact\n",
    "        confusion_matrix_filename = f\"confusion_matrix_{imbalance_method}.png\"\n",
    "        plt.savefig(confusion_matrix_filename)\n",
    "        mlflow.log_artifact(confusion_matrix_filename)\n",
    "        plt.close()\n",
    "\n",
    "        # Log the trained model to MLflow\n",
    "        mlflow.sklearn.log_model(model, f\"random_forest_model_tfidf_trigrams_imbalance_{imbalance_method}\")\n",
    "\n",
    "# Step 7: Run experiments for different imbalance methods\n",
    "imbalance_methods = ['class_weight', 'oversampling', 'adasyn', 'undersampling', 'smote_enn']\n",
    "\n",
    "# Execute the experiment for each imbalance handling method\n",
    "for method in imbalance_methods:\n",
    "    run_imbalanced_experiment(method)\n"
   ]
  }
 ],
 "metadata": {
  "kernelspec": {
   "display_name": "Python 3",
   "language": "python",
   "name": "python3"
  },
  "language_info": {
   "codemirror_mode": {
    "name": "ipython",
    "version": 3
   },
   "file_extension": ".py",
   "mimetype": "text/x-python",
   "name": "python",
   "nbconvert_exporter": "python",
   "pygments_lexer": "ipython3",
   "version": "3.11.5"
  }
 },
 "nbformat": 4,
 "nbformat_minor": 2
}
